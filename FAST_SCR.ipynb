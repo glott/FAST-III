{
 "cells": [
  {
   "cell_type": "code",
   "execution_count": 15,
   "id": "0afb7fba-1477-4b9a-8cc7-cfa53261e6c7",
   "metadata": {},
   "outputs": [],
   "source": [
    "AIRPORT = 'KMIA'"
   ]
  },
  {
   "cell_type": "code",
   "execution_count": 94,
   "id": "a8c904e9-98b4-485f-86b8-19078e201992",
   "metadata": {},
   "outputs": [],
   "source": [
    "import time, os, pathlib, csv, json, subprocess, sys, re\n",
    "from datetime import datetime\n",
    "\n",
    "import importlib.util as il\n",
    "if None in [il.find_spec('FlightRadar24'), il.find_spec('numpy'), \\\n",
    "            il.find_spec('requests'), il.find_spec('pandas'), \\\n",
    "            il.find_spec('matplotlib'), il.find_spec('IPython'), \\\n",
    "            il.find_spec('pyperclip')]:\n",
    "    subprocess.check_call([sys.executable, '-m', 'pip', 'install', 'FlightRadarAPI']);\n",
    "    subprocess.check_call([sys.executable, '-m', 'pip', 'install', 'numpy']);\n",
    "    subprocess.check_call([sys.executable, '-m', 'pip', 'install', 'requests']);\n",
    "    subprocess.check_call([sys.executable, '-m', 'pip', 'install', 'pandas']);\n",
    "    subprocess.check_call([sys.executable, '-m', 'pip', 'install', 'matplotlib']);\n",
    "    subprocess.check_call([sys.executable, '-m', 'pip', 'install', 'IPython']);\n",
    "    subprocess.check_call([sys.executable, '-m', 'pip', 'install', 'pyperclip']);\n",
    "os.system('cls')\n",
    "\n",
    "from FlightRadar24 import FlightRadar24API\n",
    "import numpy as np\n",
    "import requests, urllib\n",
    "import pandas as pd\n",
    "import matplotlib as mpl, matplotlib.pyplot as plt\n",
    "from IPython import display\n",
    "import pyperclip\n",
    "\n",
    "def pprint(dict):\n",
    "    print(json.dumps(dict, indent=2))\n",
    "\n",
    "def pcopy(dict):\n",
    "    pyperclip.copy(json.dumps(dict, indent=2))\n",
    "\n",
    "fr_api = FlightRadar24API()\n",
    "\n",
    "ft_config = fr_api.get_flight_tracker_config()\n",
    "# ft_config.gnd = '0'\n",
    "ft_config.vehicles = '0'\n",
    "fr_api.set_flight_tracker_config(ft_config)"
   ]
  },
  {
   "cell_type": "code",
   "execution_count": 103,
   "id": "c35c126c-3c83-494f-a289-a03dd46c4dfd",
   "metadata": {},
   "outputs": [],
   "source": [
    "AIRPORT = 'KOPF'\n",
    "airport_data = fr_api.get_airport_details(AIRPORT)\n",
    "airport_schedule = airport_data['airport']['pluginData']['schedule']\n",
    "airport_pos = airport_data['airport']['pluginData']['details']['position']\n",
    "arrivals = airport_schedule['arrivals']['data']\n",
    "departures = airport_schedule['departures']['data']"
   ]
  },
  {
   "cell_type": "code",
   "execution_count": 86,
   "id": "70414434-67a3-4e66-a064-0ccb622b05e8",
   "metadata": {},
   "outputs": [],
   "source": [
    "arrs, deps = [], []\n",
    "\n",
    "for a in departures:\n",
    "    a = a['flight']\n",
    "    z = {}\n",
    "\n",
    "    z['callsign'] = a['identification']['callsign']\n",
    "    if z['callsign'] is None or a['aircraft'] is None:\n",
    "        continue\n",
    "    z['reg'] = a['aircraft']['registration']\n",
    "    z['type'] = a['aircraft']['model']['code']\n",
    "\n",
    "    z['origin'] = AIRPORT\n",
    "    z['dest'] = a['airport']['destination']['code']['icao']\n",
    "    \n",
    "    z['gate'] = a['airport']['origin']['info']['gate']\n",
    "    if z['gate'] is None:\n",
    "        z['gate'] = 'NA'\n",
    "\n",
    "    dt = datetime.utcfromtimestamp(a['time']['scheduled']['departure'])\n",
    "    z['time'] = dt.strftime('%Y-%m-%d %H:%M:%S')\n",
    "\n",
    "    deps.append(z)\n",
    "\n",
    "for a in arrivals:\n",
    "    a = a['flight']\n",
    "    z = {}\n",
    "\n",
    "    z['callsign'] = a['identification']['callsign']\n",
    "    if z['callsign'] is None or a['aircraft'] is None:\n",
    "        continue\n",
    "    z['reg'] = a['aircraft']['registration']\n",
    "    z['type'] = a['aircraft']['model']['code']\n",
    "\n",
    "    z['origin'] = a['airport']['origin']['code']['icao']\n",
    "    z['dest'] = AIRPORT \n",
    "\n",
    "    z['gate'] = a['airport']['destination']['info']['gate']\n",
    "    if z['gate'] is None:\n",
    "        z['gate'] = 'NA'\n",
    "\n",
    "    dt = datetime.utcfromtimestamp(a['time']['scheduled']['arrival'])\n",
    "    z['time'] = dt.strftime('%Y-%m-%d %H:%M:%S')\n",
    "\n",
    "    arrs.append(z)"
   ]
  },
  {
   "cell_type": "code",
   "execution_count": 121,
   "id": "01311250-cdc8-4fd7-9722-8470065cf9f1",
   "metadata": {},
   "outputs": [],
   "source": [
    "def get_flight_details(id):\n",
    "    base_url = 'https://data-live.flightradar24.com/clickhandler/?flight={}'\n",
    "    data_url = base_url.format(id)\n",
    "    req = urllib.request.Request(data_url, headers={'User-Agent': 'Magic Browser'})\n",
    "    \n",
    "    n_retry = 0\n",
    "    con = None\n",
    "    while con is None:\n",
    "        try:\n",
    "            con = urllib.request.urlopen(req, timeout=(50 + 10 * n_retry))\n",
    "        except urllib.request.HTTPError as e:\n",
    "            if n_retry > 5:\n",
    "                return None\n",
    "            n_retry += 1\n",
    "    return json.loads(con.read().decode('utf8'))\n",
    "\n",
    "bounds = fr_api.get_bounds_by_point(airport_pos['latitude'], airport_pos['longitude'], 9260)\n",
    "flights = fr_api.get_flights(bounds = bounds)\n",
    "\n",
    "for flight in flights:\n",
    "    z = {}\n",
    "    z['callsign'] = flight.callsign\n",
    "    z['id'] = flight.id\n",
    "    details = get_flight_details(flight.id)\n",
    "    z['details'] = details\n",
    "    pcopy(z)"
   ]
  },
  {
   "cell_type": "code",
   "execution_count": 122,
   "id": "b6476643-7010-4afb-8b89-129641ad83c4",
   "metadata": {},
   "outputs": [
    {
     "data": {
      "text/plain": [
       "{'latitude': 25.907,\n",
       " 'longitude': -80.278297,\n",
       " 'elevation': 8,\n",
       " 'country': {'name': 'United States', 'code': 'US', 'id': 236},\n",
       " 'region': {'city': 'Miami'}}"
      ]
     },
     "execution_count": 122,
     "metadata": {},
     "output_type": "execute_result"
    }
   ],
   "source": [
    "airport_pos"
   ]
  }
 ],
 "metadata": {
  "kernelspec": {
   "display_name": "Python 3 (ipykernel)",
   "language": "python",
   "name": "python3"
  },
  "language_info": {
   "codemirror_mode": {
    "name": "ipython",
    "version": 3
   },
   "file_extension": ".py",
   "mimetype": "text/x-python",
   "name": "python",
   "nbconvert_exporter": "python",
   "pygments_lexer": "ipython3",
   "version": "3.10.6"
  }
 },
 "nbformat": 4,
 "nbformat_minor": 5
}
